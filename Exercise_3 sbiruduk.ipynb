{
  "cells": [
    {
      "cell_type": "markdown",
      "metadata": {
        "id": "flU2wCdRjQor"
      },
      "source": [
        "# Question 1\n",
        "\n",
        "Create a null vector of size 10 but the fifth value which is 1 "
      ]
    },
    {
      "cell_type": "code",
      "execution_count": 13,
      "metadata": {
        "colab": {
          "base_uri": "https://localhost:8080/"
        },
        "id": "4_Uoc1F1ahJb",
        "outputId": "3cb66f68-46af-4e05-902c-1cd81f3ee7af"
      },
      "outputs": [
        {
          "name": "stdout",
          "output_type": "stream",
          "text": [
            "[0. 0. 0. 0. 1. 0. 0. 0. 0. 0.]\n"
          ]
        }
      ],
      "source": [
        "# Importing numpy package \n",
        "import numpy as np\n",
        "\n",
        "# you answer here\n",
        "\n",
        "# Creating a null vector of size 10 with dtype float\n",
        "null_vector = np.zeros(10, dtype=float)\n",
        "\n",
        "# Set the fifth value to 1\n",
        "null_vector[4] = 1\n",
        "\n",
        "print(null_vector)\n"
      ]
    },
    {
      "cell_type": "markdown",
      "metadata": {
        "id": "i2gYdA3DkOEB"
      },
      "source": [
        "# Question 2\n",
        "\n",
        "Create a 10x10 array with random values and find the  maximum values"
      ]
    },
    {
      "cell_type": "code",
      "execution_count": 11,
      "metadata": {},
      "outputs": [
        {
          "name": "stdout",
          "output_type": "stream",
          "text": [
            "[[0.53663472 0.46842981 0.89988024 0.35508798 0.91922394 0.11373874\n",
            "  0.06489737 0.68553324 0.39573773 0.16174197]\n",
            " [0.52306807 0.21228133 0.59938712 0.56478064 0.71727846 0.07891033\n",
            "  0.57473659 0.50490431 0.62135367 0.80250376]\n",
            " [0.71032544 0.9028687  0.96346128 0.71497025 0.79760814 0.42687999\n",
            "  0.89734677 0.35820688 0.95722165 0.92460512]\n",
            " [0.64270173 0.46454764 0.15463256 0.71285976 0.521906   0.05127008\n",
            "  0.09810862 0.86255305 0.51065598 0.58242578]\n",
            " [0.04576932 0.23626065 0.82645284 0.85656284 0.19510351 0.37428717\n",
            "  0.24298678 0.68518375 0.92230609 0.14576182]\n",
            " [0.69211447 0.60136208 0.27108721 0.85808507 0.230921   0.72424283\n",
            "  0.14468147 0.45121197 0.30191056 0.17232006]\n",
            " [0.4202797  0.9278376  0.07362336 0.19197526 0.10738587 0.04152326\n",
            "  0.4829534  0.02753404 0.91329718 0.16372069]\n",
            " [0.8221705  0.21296064 0.11827526 0.79382032 0.19965059 0.29536974\n",
            "  0.92907662 0.68168068 0.73403447 0.07352746]\n",
            " [0.43555802 0.6817849  0.06123962 0.88112922 0.46489635 0.63098278\n",
            "  0.67462714 0.27285587 0.05330196 0.07898544]\n",
            " [0.5562469  0.58568725 0.97139485 0.1400663  0.19180177 0.75820088\n",
            "  0.26473843 0.10963314 0.35939477 0.22206176]]\n",
            "The maximum value is 0.9713948496431309\n"
          ]
        }
      ],
      "source": [
        "# Importing numpy package \n",
        "import numpy as np\n",
        "\n",
        "# you answer here\n",
        "\n",
        "# Create a 10x10 array with random values\n",
        "array = np.random.rand(10, 10)\n",
        "\n",
        "# Find the maximum value in the array\n",
        "max_value = array.max()\n",
        "\n",
        "print(array)\n",
        "\n",
        "print(f\"The maximum value is {max_value}\")\n"
      ]
    },
    {
      "cell_type": "markdown",
      "metadata": {
        "id": "ku3f8iR9kVJJ"
      },
      "source": [
        "# Question 3\n",
        "\n",
        "How to add a border (filled with 0's) around the following existing array? The end results should be a matrix of 7 x 7 matrix with all 0's along the four boarders. \n",
        "\n",
        "`Z = np.ones((5,5))`"
      ]
    },
    {
      "cell_type": "code",
      "execution_count": 12,
      "metadata": {
        "colab": {
          "base_uri": "https://localhost:8080/"
        },
        "id": "FNl22WEdkUSo",
        "outputId": "87b8d338-bcfb-424d-e5ff-031e00ecc457"
      },
      "outputs": [
        {
          "name": "stdout",
          "output_type": "stream",
          "text": [
            "[[0. 0. 0. 0. 0. 0. 0.]\n",
            " [0. 1. 1. 1. 1. 1. 0.]\n",
            " [0. 1. 1. 1. 1. 1. 0.]\n",
            " [0. 1. 1. 1. 1. 1. 0.]\n",
            " [0. 1. 1. 1. 1. 1. 0.]\n",
            " [0. 1. 1. 1. 1. 1. 0.]\n",
            " [0. 0. 0. 0. 0. 0. 0.]]\n"
          ]
        }
      ],
      "source": [
        "# Import the numpy package under the name np\n",
        "import numpy as np\n",
        "\n",
        "# you answer here\n",
        "\n",
        "# Create an array of ones\n",
        "Z = np.ones((5, 5))\n",
        "\n",
        "# Create a new array of zeros with the desired shape\n",
        "Z_border = np.zeros((7, 7))\n",
        "\n",
        "# Copy the original array into the center of the new array\n",
        "Z_border[1:-1, 1:-1] = Z\n",
        "\n",
        "print(Z_border)"
      ]
    }
  ],
  "metadata": {
    "colab": {
      "provenance": []
    },
    "kernelspec": {
      "display_name": "Python 3",
      "name": "python3"
    },
    "language_info": {
      "codemirror_mode": {
        "name": "ipython",
        "version": 3
      },
      "file_extension": ".py",
      "mimetype": "text/x-python",
      "name": "python",
      "nbconvert_exporter": "python",
      "pygments_lexer": "ipython3",
      "version": "3.11.5"
    }
  },
  "nbformat": 4,
  "nbformat_minor": 0
}
